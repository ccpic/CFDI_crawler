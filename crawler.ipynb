{
 "cells": [
  {
   "cell_type": "code",
   "execution_count": 1,
   "metadata": {},
   "outputs": [],
   "source": [
    "import requests\r\n",
    "\r\n",
    "post_data = {\r\n",
    "    \"pageSize\": 1100,\r\n",
    "    \"curPage\": 1,\r\n",
    "}\r\n",
    "\r\n",
    "r=requests.post(\"https://beian.cfdi.org.cn/CTMDS/pub/PUB010100.do?method=handle06&_dt=20210510122555\",\r\n",
    "                          data=post_data)"
   ]
  },
  {
   "cell_type": "code",
   "execution_count": 2,
   "metadata": {},
   "outputs": [],
   "source": [
    "import json\r\n",
    "import pandas as pd\r\n",
    "data_json = json.loads(r.text)\r\n",
    "df = pd.DataFrame(data_json['data'])\r\n",
    "df.to_csv(\"data.csv\", index=False, encoding='utf-8-sig')"
   ]
  },
  {
   "cell_type": "code",
   "execution_count": 3,
   "metadata": {},
   "outputs": [
    {
     "data": {
      "text/plain": "[range(0, 6), range(6, 11)]"
     },
     "execution_count": 3,
     "metadata": {},
     "output_type": "execute_result"
    }
   ],
   "source": [
    "def split(a, n):\r\n",
    "    k, m = divmod(len(a), n)\r\n",
    "    return (a[i*k+min(i, m):(i+1)*k+min(i+1, m)] for i in range(n))\r\n",
    "\r\n",
    "list(split(range(11), 2))"
   ]
  },
  {
   "cell_type": "code",
   "execution_count": 4,
   "metadata": {},
   "outputs": [],
   "source": [
    "from lxml import etree\r\n",
    "import html\r\n",
    "\r\n",
    "list_companyID = df[\"companyId\"].to_list()\r\n",
    "\r\n",
    "d = {}\r\n",
    "for i, company_id in enumerate(list_companyID):\r\n",
    "    print(i, company_id)\r\n",
    "    url = \"https://beian.cfdi.org.cn/CTMDS/pub/PUB010100.do?method=handle07&compId=%s\" % company_id\r\n",
    "    detail = requests.get(url)\r\n",
    "    root = etree.HTML(detail.content.decode('utf-8'))\r\n",
    "    # hosp_level_div = root.xpath(\"/html/body/div[1]/div[1]/div/div[3]/div\")\r\n",
    "    # hosp_level = ''.join(hosp_level_div[0].itertext()).strip()\r\n",
    "    # d[company_id] = hosp_level\r\n",
    "    # print(company_id, hosp_level)\r\n",
    "    try:\r\n",
    "        doctor_table_div =  root.xpath(\"/html/body/div[1]/div[2]/div\")\r\n",
    "        elements = doctor_table_div[0].xpath('.//tr/td//text()')\r\n",
    "        doctors = list(split(elements, int(len(elements)/3)))\r\n",
    "        df_doctors = pd.DataFrame(doctors, columns = ['学科', '姓名', \"职称\"])\r\n",
    "        df_doctors[\"companyId\"] = company_id\r\n",
    "        if i == 0:\r\n",
    "            df_combined = df_doctors\r\n",
    "        else:\r\n",
    "            df_combined = pd.concat([df_combined, df_doctors], axis=0)\r\n",
    "    except:\r\n",
    "        continue\r\n"
   ]
  },
  {
   "cell_type": "code",
   "execution_count": 5,
   "metadata": {},
   "outputs": [
    {
     "name": "stdout",
     "output_type": "stream",
     "text": [
      "                       学科   姓名        职称                         companyId\n",
      "0                内科-其他-肝病  丁惠国   教授,主任医师  54533298C0A8023378B9E559FDE7DF5E\n",
      "1                内科-其他-肝病  陈新月   教授,主任医师  54533298C0A8023378B9E559FDE7DF5E\n",
      "2                内科-其他-肝病   张晶   主任医师,教授  54533298C0A8023378B9E559FDE7DF5E\n",
      "3                内科-其他-肝病  孟庆华   教授,主任医师  54533298C0A8023378B9E559FDE7DF5E\n",
      "4                内科-其他-肝病   徐斌  副教授,主任医师  54533298C0A8023378B9E559FDE7DF5E\n",
      "..                    ...  ...       ...                               ...\n",
      "0                肿瘤科-肿瘤内科  刘义冰     副主任医师  46D8EA3AC0A802336AC3DF28D37D87F4\n",
      "0               内科-呼吸内科专业  王红嫚      主任医师  1F2F64E9C0A802336243E44106F0A5B1\n",
      "1                内科-内分泌专业  张勇军      主任医师  1F2F64E9C0A802336243E44106F0A5B1\n",
      "2                     肿瘤科  周立霞     副主任医师  1F2F64E9C0A802336243E44106F0A5B1\n",
      "0   其它-Ⅰ期临床试验研究室-I期药物临床试验  丁存刚      副研究员  CD5E4AEEC0A802333F33F9319F75D8B2\n",
      "\n",
      "[26431 rows x 4 columns]\n"
     ]
    }
   ],
   "source": [
    "print(df_combined)\r\n",
    "df_combined.to_csv('doctors.csv', index=False, encoding='utf-8-sig')"
   ]
  },
  {
   "cell_type": "code",
   "execution_count": 39,
   "metadata": {},
   "outputs": [],
   "source": [
    "(pd.DataFrame.from_dict(data=d, orient='index')\r\n",
    "   .to_csv('dict_hplevel.csv', header=False, encoding='utf-8-sig'))"
   ]
  }
 ],
 "metadata": {
  "kernelspec": {
   "display_name": "Python 3.7.9 64-bit ('.venv')",
   "name": "python379jvsc74a57bd0ef51aa6267e617fb2159fe608dbebc33017f30d3c91e9173ba53937bf6f1eee5"
  },
  "language_info": {
   "codemirror_mode": {
    "name": "ipython",
    "version": 3
   },
   "file_extension": ".py",
   "mimetype": "text/x-python",
   "name": "python",
   "nbconvert_exporter": "python",
   "pygments_lexer": "ipython3",
   "version": "3.7.9"
  },
  "orig_nbformat": 2
 },
 "nbformat": 4,
 "nbformat_minor": 2
}